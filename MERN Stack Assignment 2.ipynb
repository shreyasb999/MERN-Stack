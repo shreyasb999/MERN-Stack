{
 "cells": [
  {
   "cell_type": "markdown",
   "metadata": {},
   "source": [
    "#                                 MERN STACK ASSIGNMENT 2\n",
    "\n",
    "### Name - Shreyas Bhavsar                                                                   \n",
    "### Email - bhavsarshreyas99@gmail.com"
   ]
  },
  {
   "cell_type": "markdown",
   "metadata": {},
   "source": [
    "### 1. What is MongoDB replication?"
   ]
  },
  {
   "cell_type": "markdown",
   "metadata": {},
   "source": [
    "Replication offers data redundancy and high availability. It keeps multiple copies or replicas of data on physically isolated servers and maintains the durability of that data. \n",
    "\n",
    "Replication allows to increase data availability by creating multiple copies of data across servers. This is especially useful if one server crashes or there is any hardware failure.\n",
    "\n",
    "In MongoDB replication is achieved through a Replica Set. Writer operations are sent to the primary node, which applies the operations across secondary servers, replicating the data. \n",
    "\n",
    "If the primary server crashes or if there is system failure, one of the secondary servers takes over and becomes the new primary node via election. If that server comes back online, it becomes a secondary once it fully recovers, aiding the new primary node."
   ]
  },
  {
   "cell_type": "markdown",
   "metadata": {},
   "source": [
    "### 2. What are some of NodeJs' features?"
   ]
  },
  {
   "cell_type": "markdown",
   "metadata": {},
   "source": [
    "**1. Single Threaded :** \n",
    "Node.js operates on a single thread. It is based on the “Single Threaded Event Loop Model” architecture which can handle multiple client requests. The main event loop is executed by a single thread, but in the background, the input-output work is performed on separate threads, as Node API’s input-output operation is asynchronous in order to accommodate the Event Loop. Event Loop is what allows the node.js to perform all the non-blocking operations.\n",
    "\n",
    "**2. Asynchronous :**\n",
    "Node.js is asynchronous by default. It operates in a non-blocking way. Meaning, when a client requests a server, a single thread handles the request; it checks if the request involves any database interaction if it does not; the request is processed and the server sends back the response to the client. The thread is ready to handle the next request.\n",
    "\n",
    "**3. Event Driven :**\n",
    "The event-driven concept is similar to the concept of callback function in asynchronous programming. The only difference is that callback function executes once the asynchronous function returns its result and events are triggered on its associated event handler. Node provides a module called “Event” which consists of an “EventEmitter” class that gives us the privilege to implement event-driven programming. An Event handler is a function that is called when an event is triggered. A main loop listens to the event triggers and then calls the corresponding event handler. EventEmitter consists of various methods. Event-driven programming makes Node pretty fast and gives high performance.\n",
    "\n",
    "**4. Performance :**\n",
    "Node.js is built on Google Chrome’s V8 JavaScript engine, which helps us in faster code execution. The engine compiles the JavaScript code into machine code which makes our code easier and faster to implement in an effective manner. Concepts like asynchronous programming and the way it operates on non-blocking input-output operations make its performance high. Node.js uses events highly which makes it pretty fast.\n",
    "\n",
    "**5. Highly Scalable :**\n",
    "Node.js applications are highly scalable as they operate on an asynchronous (non-blocking) way. Node.js works on Single thread, where the time when a single request arrives, it starts processing it and is ready to handle the next request. Also, once the response is prepared, it is sent back to the client.\n",
    "\n",
    "**6. Open Source :**\n",
    "Node.js is open-source, which means that it is free to use.\n",
    "\n",
    "**7. Node Package Manager(NPM) :**\n",
    "The Node Package Manager is a package manager for Node JavaScript runtime environment and is a recommended feature of Node.js installer. It is the world’s largest online repository. It also looks after the management of the local dependencies of our project. It has nearby 50,000 – 80,000 of packages in its public online repository.\n",
    "\n",
    "**8. No Buffering :**\n",
    "Due to the callback function concept, Node.js application outputs the data in blocks. Thus, the user receives the data more easily and ready, as it does not have to wait for the entire operation to complete. It cuts down the overall time needed for processing, E.g: while uploading audio or video files. They never buffer any data.\n",
    "\n",
    "**9. Caching :**\n",
    "Node.js holds a pretty good advantage of caching. It supports the caching of modules. When a Node.js module is requested for the first time, it is cached into the application memory. We will not be required to re-execute the codes as caching allows the application to load the web pages faster and respond with ease to the user."
   ]
  },
  {
   "cell_type": "markdown",
   "metadata": {},
   "source": [
    "### 3. What is MongoDB's database type?"
   ]
  },
  {
   "cell_type": "markdown",
   "metadata": {},
   "source": [
    "NoSQL is a non-relational DBMS, that does not require a fixed schema, avoids joins, and is easy to scale. The purpose of using a NoSQL database is for distributed data stores with humongous data storage needs. NoSQL is used for Big data and real-time web apps.\n",
    "\n",
    "A document database stores data in JSON, BSON , or XML documents. In a document database, documents can be nested. Particular elements can be indexed for faster querying.Documents can be stored and retrieved in a form that is much closer to the data objects used in applications, which means less translation is required to use the data in an application.\n",
    "\n",
    "MongoDB is a document-oriented NoSQL database used for high volume data storage. Instead of using tables and rows as in the traditional relational databases, MongoDB makes use of collections and documents. Documents consist of key-value pairs which are the basic unit of data in MongoDB. Collections contain sets of documents and function which is the equivalent of relational database tables."
   ]
  },
  {
   "cell_type": "markdown",
   "metadata": {},
   "source": [
    "### 4. How does Node prevent code from being blocked?"
   ]
  },
  {
   "cell_type": "markdown",
   "metadata": {},
   "source": [
    "Node.js prevent code from being blocked by putting the event-based model at its core and using an event loop instead of threads. Node.js provides callback function. Callback function gets called whenever corresponding event triggered.\n",
    "\n",
    "Node uses a single thread, which means one task can be executed at a time. This is done by using a stack. Node.js allows the use of Event Loop. The process causing the delay is offloaded from the stack and the execution of that process continues parallel to further execution of the main code. Thus, the callback for that function is pushed into a task queue and the code continues to execute asynchronously. When the process completes its execution, the callback function returns the desired output from that process and resumes normal execution."
   ]
  },
  {
   "cell_type": "markdown",
   "metadata": {},
   "source": [
    "### 5. What exactly do you mean when you say \"pure components\"?"
   ]
  },
  {
   "cell_type": "markdown",
   "metadata": {},
   "source": [
    "The major difference between React.PureComponent and React.Component is PureComponent does a shallow comparison on state change. It means that when comparing scalar values it compares their values, but when comparing objects it compares only references. It helps to improve the performance of the app.\n",
    "\n",
    "PureComponent is similar to Component. The difference between them is that Component doesn’t implement shouldComponentUpdate(), but PureComponent implements it with a shallow comparison of properties and state data.\n",
    "\n",
    "PureComponent’s shouldComponentUpdate() method returns true or false  If the previous state and props data is the same as the next props or state, resulting the component is not Re-rendered. If our React component’s render() function renders the same result given the same props and state, we can use React.PureComponent for a performance boost."
   ]
  },
  {
   "cell_type": "code",
   "execution_count": null,
   "metadata": {},
   "outputs": [],
   "source": []
  }
 ],
 "metadata": {
  "kernelspec": {
   "display_name": "Python 3",
   "language": "python",
   "name": "python3"
  },
  "language_info": {
   "codemirror_mode": {
    "name": "ipython",
    "version": 3
   },
   "file_extension": ".py",
   "mimetype": "text/x-python",
   "name": "python",
   "nbconvert_exporter": "python",
   "pygments_lexer": "ipython3",
   "version": "3.8.3"
  }
 },
 "nbformat": 4,
 "nbformat_minor": 4
}
