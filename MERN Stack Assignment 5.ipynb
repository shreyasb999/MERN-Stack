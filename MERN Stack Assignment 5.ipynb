{
 "cells": [
  {
   "cell_type": "markdown",
   "metadata": {},
   "source": [
    "#                                  MERN Stack Assignment 5\n",
    "\n",
    "### Name - Shreyas Bhavsar                                                                   \n",
    "### Email - bhavsarshreyas99@gmail.com"
   ]
  },
  {
   "cell_type": "markdown",
   "metadata": {},
   "source": [
    "### 1. Apart from MERN Stack, what other stacks are you familiar with?"
   ]
  },
  {
   "cell_type": "markdown",
   "metadata": {},
   "source": [
    "---\n",
    "**Full stack:**\n",
    "\n",
    "Skilled developers come from various streams; to be specific, there is Frontend, Backend, Database, Mobile App and Testing. Earlier the developers have gained particular expertise in any of the above fields and carry forward their career in that domain. However, the trends are changed now. The demand for technologies has mandated the developers to work on both Frontend as well as on Backend and much more.\n",
    "\n",
    "Full Stack Developers are at the limelight because of the numerous benefits they deliver, most likely unique code for multiple technologies & multi-technology project to create a great UX/UI.\n",
    "\n",
    "Developers these days are comprehending and can solve glitches across several streams of software development. Companies are now rigorously trying to hire full stack developers, who can build the complete web or app from scratch, without any discontinuation in the process.\n",
    "\n",
    "![](full_stack.png \"Full Stack\")\n",
    "\n",
    "**Benefits Of Full Stack :**\n",
    "* Easy Switching between the front end and back end development based on the requirement of the project.\n",
    "* Look after the entire design structure and work on any level as required during development.\n",
    "* Cost Saving by hiring a specialized full stack developer rather than hiring front end and back end specifically.\n",
    "* Easy to take ownership of design & implementation on a site\n",
    "* Easy to upgrade with new technology and tools faster than someone specializing only in the front end or back end technology.\n",
    "* Comprehensive work for individual Full Stack developer gives the flexibility to move from task to task according to the need of the project.\n",
    "* A complete solution to problems, go to the root of a problem without just focusing on solutions.\n",
    "* An ideal option for small & medium enterprises as the complex website requirement can be broken into segments to save time.\n",
    "\n",
    "---\n",
    "\n",
    "**MEAN Stack :**\n",
    "\n",
    "The term **“MEAN Stack”** stated as a set of collected JavaScript-based technologies used to develop complex websites and web apps(progressive or responsive). In simple words, MEAN, as explained as a full-stack JavaScript framework — which simplifies and accelerates web & application development.\n",
    "\n",
    "MongoDB, Express.JS, Angular, and Node.JS are a group of technologies that make a combination of MEAN Stack technology in Mobile and Web Applications. In recent time, some of the complex websites & web apps(responsive) are powered by MEAN Stack.\n",
    "\n",
    "MEAN Stack is one of the fastest growing open source stack development framework assists developer or teams with popular tools or plugins to reduces the time on system administration and it also allows the quicker deployment of web apps, websites and API’s to concentrate on the complex development process of your project.\n",
    "\n",
    "1. MongoDB: Document database — used by your back-end application to store its data as JSON (JavaScript Object Notation) documents\n",
    "2. Express (sometimes referred to as Express.js): Back-end web application framework running on top of Node.js\n",
    "3. Angular (formerly Angular.js, now also known as Angular 2): Front-end web app framework; runs your JavaScript code in the user’s browser, allowing your application UI to be dynamic\n",
    "4. Node.JS: JavaScript runtime environment — lets you implement your application back-end in JavaScript\n",
    "\n",
    "**Benefits Of Choosing MEAN Stack :**\n",
    "\n",
    "* Covers the full web development cycle from front end development (client side) to back end development (server side) using JavaScript.\n",
    "* Supports the MVC(Model View Controller) architecture to make the development process flow smoothly.\n",
    "* Helps to resist unnecessary grunt work, thus keeping the web application development much organized.\n",
    "* The merger of four great technologies, i.e., MongoDB, Express.JS, Angular.JS, and Node.JS.\n",
    "* Comes with a pre-built extensive suite of testing tools.\n",
    "* Open source in frameworks and backed by good community supports.\n",
    "\n",
    "---\n",
    "\n",
    "**LAMP Stack :**\n",
    "\n",
    "LAMP is an industry-standard when it comes to tech stack models. In web development, it delivers the best cost efficiency, flexibility, and performance. It is an acronym that stands for:\n",
    "\n",
    "* Linux (operating system)\n",
    "* Apache (HTTP server)\n",
    "* MySQL (relational database management)\n",
    "* PHP (programming language, it can also be Perl or Python)\n",
    "\n",
    "All these stack layers are free and open source. Since this tech stack can run on any operating system, you can interchange or modify other components in the same stack. Use WAMP for Microsoft Windows or MAMP for MacOS.\n",
    "\n",
    "---\n",
    "\n",
    "**ASP.NET :**\n",
    "\n",
    "Microsoft’s .NET Core has been growing in popularity in recent years. Modern .NET applications are very lightweight and can run on Windows and Linux. Microsoft’s embrace of open source technologies has caught the attention of developers all over the world. Now with .NET 5, you don’t have to think as much about .NET Framework vs .NET Core.\n",
    "\n",
    "Applications built using .NET commonly use the following application tech stack:\n",
    "\n",
    "* ASP.NET MVC – Standard model-view-controller framework\n",
    "* IIS – Microsoft’s web server\n",
    "* Angular frontend framework with TypeScript\n",
    "* SQL Server – Microsoft’s enterprise database\n",
    "* Microsoft Azure – A favorite of most .NET developers\n",
    "* It is also very common to also see .NET applications running on Linux with NGINX and open source databases like Postgresql or Mysql.\n",
    "\n",
    "---\n",
    "\n",
    "**MEVN Stack:**\n",
    "\n",
    "Another variation of MEAN, MEVN uses Vue.js as the frontend web framework instead of Angular.js. Over the years, Vue.js has grown in popularity. It incorporates the best features of Angular and React.\n",
    "\n",
    "Vue.js is easy to learn, delivers a clear programming style, and provides superb performance for web applications.\n",
    "\n",
    "---\n",
    "\n"
   ]
  },
  {
   "cell_type": "markdown",
   "metadata": {},
   "source": [
    " "
   ]
  },
  {
   "cell_type": "markdown",
   "metadata": {},
   "source": [
    "### 2. In ExpressJs, what do you mean by middleware?"
   ]
  },
  {
   "cell_type": "markdown",
   "metadata": {},
   "source": [
    "Express.js is a routing and Middleware framework for handling the different routing of the webpage and it works between the request and response cycle. Middleware gets executed after the server receives the request and before the controller actions send the response.\n",
    "\n",
    "Middleware has the access to the request object, responses object, and next, it can process the request before the server send a response. An Express-based application is a series of middleware function calls.\n",
    "\n",
    "![alt text](middleware.png \"Middleware\")\n",
    "\n",
    "**Advantages of using middleware :**\n",
    "\n",
    "* Middleware can process request objects multiple times before the server works for that request.\n",
    "* Middleware can be used to add logging and authentication functionality.\n",
    "* Middleware improves client-side rendering performance.\n",
    "* Middleware is used for setting some specific HTTP headers.\n",
    "* Middleware helps for Optimization and better performance.\n",
    "\n",
    "**Middleware Chaining :**\n",
    "\n",
    "Middleware can be chained from one to another, Hence creating a chain of functions that are executed in order. The last function sends the response back to the browser. So, before sending the response back to the browser the different middleware process the request.\n",
    "\n",
    "The **next()** function in the express is responsible for calling the next middleware function if there is one.\n",
    "\n",
    "Modified requests will be available to each middleware via the next function –\n",
    "\n",
    "![alt text](MiddlewareChaining.png \"Middleware Chaining\")\n",
    "\n",
    "In the above case, the incoming request is modified and various operations are performed using several middlewares, and middleware is chained using the next function. The router sends the response back to the browser.\n",
    "\n",
    "**Middleware Syntax :**\n",
    "The basic syntax for the middleware functions are as follows –\n",
    "> app.get(path, (req, res, next) => {}, (req, res) => {})\n",
    "\n",
    "The middle part (req,res,next)=>{} is the middleware function. Here we generally perform the actions required before the user is allowed to view the webpage or call the data and many other functions. "
   ]
  },
  {
   "cell_type": "markdown",
   "metadata": {},
   "source": [
    "      "
   ]
  },
  {
   "cell_type": "markdown",
   "metadata": {},
   "source": [
    "### 3. What exactly do you mean when you say \"sharding\"?"
   ]
  },
  {
   "cell_type": "markdown",
   "metadata": {},
   "source": [
    "**Sharding** is a very important concept which helps the system to keep data into different resources according to the sharding process.\n",
    "\n",
    "The word **“Shard”** means **a small part of a whole**. Hence Sharding means dividing a larger part into smaller parts.\n",
    "\n",
    "In DBMS, Sharding is a type of DataBase partitioning in which a large DataBase is divided or partitioned into smaller data, also known as shards. These shards are not only smaller, but also faster and hence easily manageable.\n",
    "\n",
    "**Need for Sharding :**\n",
    "\n",
    "Consider a very large database whose sharding has not been done. For example, let’s take a DataBase of a college in which all the student’s record (present and past) in the whole college are maintained in a single database. So, it would contain very very large number of data, say 100, 000 records.\n",
    "\n",
    "Now when we need to find a student from this Database, each time around 100, 000 transactions has to be done to find the student, which is very very costly.\n",
    "\n",
    "Now consider the same college students records, divided into smaller data shards based on years. Now each data shard will have around 1000-5000 students records only. So not only the database became much more manageable, but also the transaction cost of each time also reduces by a huge factor, which is achieved by Sharding.\n",
    "\n",
    "Hence this is why Sharding is needed.\n",
    "\n",
    "**Features of Sharding :**\n",
    "\n",
    "* Sharding makes the Database smaller\n",
    "* Sharding makes the Database faster\n",
    "* Sharding makes the Database much more easily manageable\n",
    "* Sharding can be a complex operation sometimes\n",
    "* Sharding reduces the transaction cost of the Database"
   ]
  },
  {
   "cell_type": "markdown",
   "metadata": {},
   "source": [
    "   "
   ]
  },
  {
   "cell_type": "markdown",
   "metadata": {},
   "source": [
    "### 4. Describe a few examples Where can the MERN Stack be used?"
   ]
  },
  {
   "cell_type": "markdown",
   "metadata": {},
   "source": [
    "**Use Cases of MERN :**\n",
    "\n",
    "Like any web stack, you can build whatever you want in MERN - though it’s ideally suited for cases that are JSON-heavy, cloud-native, and that have dynamic web interfaces.\n",
    "\n",
    "Like other popular web stacks, it is possible to develop whatever you want in MERN. Nonetheless, it is ideal for cloud-based projects where you require intensive JSON and dynamic web interfaces. A few examples of purposes where MERN is used are:\n",
    "\n",
    "**Calendars and To-do Apps :**\n",
    "\n",
    "A calendar or a to-do app is a rudimentary project that can tell you a lot about the mechanics of the MERN stack. You can design the frontend, i.e., the interface of the calendar or to-do app using ReactJS. The data to be stored, accessed, modified, shown in the to-do app is made possible using MongoDB.\n",
    "\n",
    "**Interactive Forums :**\n",
    "\n",
    "Another suitable use case for MERN is an interactive forum, which can be a social media platform or a website that allows users to share messages and communicate. The topic of the interactive forum may or may not be predefined.\n",
    "\n",
    "**Social Media Product :**\n",
    "\n",
    "An interactive forum is just one use of the MERN stack for social media. These include ads, posts, a mini web app embedded in the social media page, etc."
   ]
  },
  {
   "cell_type": "markdown",
   "metadata": {},
   "source": [
    " "
   ]
  },
  {
   "cell_type": "markdown",
   "metadata": {},
   "source": [
    "### 5. What do you mean when you say \"threads\"?"
   ]
  },
  {
   "cell_type": "markdown",
   "metadata": {},
   "source": [
    "**Threads :**\n",
    "\n",
    "Threads are the virtual components or codes, which divides the physical core of a CPU into virtual multiple cores. A single CPU core can have up-to 2 threads per core.\n",
    "\n",
    "For example, if a CPU is dual core (i.e., 2 cores) it will have 4 threads. And if a CPU is Octal core (i.e., 8 core) it will have 16 threads and vice-versa.\n",
    "\n",
    "**Working :**\n",
    "\n",
    "The thread is created by a process. Every time you open an application, it itself creates a thread which will handle all the tasks of that specific application. Like-wise the more application you open more threads will be created.\n",
    "\n",
    "The threads are always created by the operating system for performing a task of a specific application.\n",
    "There is single thread (code of that core which performs the computations also known as primary thread) on the core which when gets the information from the user, creates another thread and allocates the task to it. Similarly, if it gets another instruction it forms second thread and allocates the task to it. Making a total of two threads.\n",
    "\n",
    "\n",
    "**Example :**\n",
    "\n",
    "The smartphone application is an example of this, when you open a app it shows a circle which spins continuously, this process is done by a thread created for this purpose only, and the second thread loads the information and presents it in the Graphical User Interface.\n",
    "\n",
    "The only fact that will limit the creation of the threads will be the number of the threads provided by the physical CPU, and it varies from CPU to CPU. The 1st image is the loading spinner by the first thread and the second one is the GUI loading by the second thread.\n",
    "\n",
    "![alt text](Thread-example.jpg \"Thread Example\")\n",
    "\n",
    "**What is the use of a thread ?**\n",
    "\n",
    "Threads have become a vital part of the computing as they allow the processor to perform multiple tasks at the same time making the tasks faster. And also making the computer capable of multitasking. Due to threads only you are able to browse the web as well as listen to music simultaneously.\n",
    "\n"
   ]
  },
  {
   "cell_type": "code",
   "execution_count": null,
   "metadata": {},
   "outputs": [],
   "source": []
  }
 ],
 "metadata": {
  "kernelspec": {
   "display_name": "Python 3",
   "language": "python",
   "name": "python3"
  },
  "language_info": {
   "codemirror_mode": {
    "name": "ipython",
    "version": 3
   },
   "file_extension": ".py",
   "mimetype": "text/x-python",
   "name": "python",
   "nbconvert_exporter": "python",
   "pygments_lexer": "ipython3",
   "version": "3.8.3"
  }
 },
 "nbformat": 4,
 "nbformat_minor": 4
}
