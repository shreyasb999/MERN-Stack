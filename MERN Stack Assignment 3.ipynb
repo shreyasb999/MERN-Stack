{
 "cells": [
  {
   "cell_type": "markdown",
   "metadata": {},
   "source": [
    "#                                 MERN STACK ASSIGNMENT 3\n",
    "\n",
    "### Name - Shreyas Bhavsar                                                                   \n",
    "### Email - bhavsarshreyas99@gmail.com"
   ]
  },
  {
   "cell_type": "markdown",
   "metadata": {},
   "source": [
    "### 1. What features does Swagger offer?"
   ]
  },
  {
   "cell_type": "markdown",
   "metadata": {},
   "source": [
    "Swagger is a set of open-source tools built around the OpenAPI Specification that can help you design, build, document and consume REST APIs. Swagger includes automated documentation, code generation (into many programming languages), and test-case generation.\n",
    "\n",
    "Swagger's open-source tooling usage can be broken up into different use cases: development, interaction with APIs, and documentation.\n",
    "\n",
    "**Developing APIs :**\n",
    "When creating APIs, Swagger tooling may be used to automatically generate an Open API document based on the code itself. This embeds the API description in the source code of a project and is informally called code-first or bottom-up API development.\n",
    "Alternatively, using Swagger Codegen, developers can decouple the source code from the Open API document, and generate client and server code directly from the design. This makes it possible to defer the coding aspect.\n",
    "\n",
    "**Interacting with APIs :**\n",
    "Using the Swagger Codegen project, end users generate client SDKs directly from the OpenAPI document, reducing the need for human-generated client code. As of August 2017, the Swagger Codegen project supported over 50 different languages and formats for client SDK generation.\n",
    "\n",
    "**Documenting APIs :**\n",
    "When described by an OpenAPI document, Swagger open-source tooling may be used to interact directly with the API through the Swagger UI. This project allows connections directly to live APIs through an interactive, HTML-based user interface. Requests can be made directly from the UI and the options explored by the user of the interface."
   ]
  },
  {
   "cell_type": "markdown",
   "metadata": {},
   "source": [
    " "
   ]
  },
  {
   "cell_type": "markdown",
   "metadata": {},
   "source": [
    "### 2. How does API testing benefit you?"
   ]
  },
  {
   "cell_type": "markdown",
   "metadata": {},
   "source": [
    "API testing is a type of software testing that verifies Application Programming Interfaces—often referred to as APIs. API testing confirms that an application’s performance, functionality, security and reliability are performing as expected. \n",
    "\n",
    "UI testing focuses on the look and feel of the user interface, while the benefits of API testing focus on the business logic layer of the software’s architecture. In other words, the advantages of API testing over UI testing is to confirm the validity of an API from every angle, beyond the user’s experience with the software application.\n",
    "\n",
    "Based on your project timeline, integration requirements, and desired functionality, these six API testing benefits can contribute to your product results, consumer engagement and security:\n",
    "\n",
    "**1. Access Without UI :**\n",
    "A key advantage of API testing is having access to the application without a user interface or users to interact with the system. In other words, QA testers can run API tests without needing to experience the software application. This is a great advantage because it provides QA engineers early insight into defects and errors so that developers can resolve the issues before they impact the GUI.\n",
    "\n",
    "\n",
    "**2. Test for Core Functionality :**\n",
    "Testing the code-level functionality of an application provides an early evaluation of its overall build strength before running GUI tests. This helps expose the small errors that can fester and become larger problems during GUI testing. Core access enables testing in tandem with development, fostering communication and improved collaboration between both teams. This is especially advantageous if you are performing your API testing with an offshore QA team.\n",
    "\n",
    "\n",
    "**3. Time Effective :**\n",
    "One of the major differences between API and GUI testing is that API testing is far less time consuming than functional GUI testing. GUI testing requires the polling of webpage elements, which can slow down the testing process immensely. And what is API testing known for best but its speediness in delivering results!\n",
    "\n",
    "Just how much time can APIs save by testing the core functionality of your application? Consider this real-life example calculated by our team of engineers:\n",
    "\n",
    "3,000 API tests in 50 minutes (in parallel execution)\n",
    "3,000 GUI tests in 30 hours (in parallel execution)\n",
    "\n",
    "Your QA UI testing team can expect comparable time savings. Because API test automation requires less code, API testing provides better, faster test coverage than automated GUI tests. The end result of faster testing is a reduced overall testing cost.\n",
    "\n",
    "\n",
    "**4.Language-Independent :**\n",
    "As previously mentioned, an API test exchanges data using XML or JSON. These transfer modes are completely language-independent, meaning that you can select any core language when pursuing automated testing services for your application.\n",
    "\n",
    "\n",
    "**5. Easy Integration With GUI :**\n",
    "With API testing, highly integrable tests are possible. This is especially beneficial if you plan to perform functional GUI tests following your API testing. For example, easy integration would allow for the creation of new users within the application prior to the start of a GUI test."
   ]
  },
  {
   "cell_type": "markdown",
   "metadata": {},
   "source": [
    " "
   ]
  },
  {
   "cell_type": "markdown",
   "metadata": {},
   "source": [
    "### 3. How do we include an API in Swagger?"
   ]
  },
  {
   "cell_type": "markdown",
   "metadata": {},
   "source": [
    "Below are the instructions for how to create an API definition if your API is already built and working.\n",
    "\n",
    "**1. Go to Swagger Inspector**\n",
    "\n",
    "**2. Make calls to your API :**\n",
    "* Make a call to every endpoint, filling in your URI, method (GET/POST/etc), and any parameters, headers, and authentication details needed for the API.\n",
    "* You’ll see your API requests fill into your history to the right of the request pane after you send requests.\n",
    "\n",
    "**3. Select requests in the History and create API definition :**\n",
    "In the **History** panel, select the check boxes next to the API calls you want to include in the API definition. It makes sense to choose only API calls made to the same API (calls that share a base URI).\n",
    "\n",
    "After you have selected the requests, click **Create API Definition**. Swagger Inspector can create OpenAPI 3.0 and OpenAPI 2.0 (aka Swagger 2.0) definitions - you can choose the desired version from the dropdown.\n",
    "\n",
    "**4. Follow the prompts to go to SwaggerHub**\n",
    "\n",
    "**5. Name your API :**\n",
    "The API name is a general name for the API and can be internal. If you already have a version, fill it in. Otherwise, we recommend leaving the default for unpublished APIs (0.0.1) or using 1.0.0 for brand new APIs. Versions are usually denoted *major.minor.veryMinor*.\n",
    "\n",
    "**6. Your definition is there!**\n",
    "You’ll edit on the left pane - the text editor, and see changes in the right pane - the “UI” portion. You can make any changes you’d like to your definition file, which will be viewed as YAML. For example, you probably want to add your API title (that could be the same as the API name). You can also add information about logic that might not be obvious, like point out any values that are mutually exclusive."
   ]
  },
  {
   "cell_type": "markdown",
   "metadata": {},
   "source": [
    " "
   ]
  },
  {
   "cell_type": "markdown",
   "metadata": {},
   "source": [
    "### 4. In Swagger UI, how can we submit custom headers with requests?"
   ]
  },
  {
   "cell_type": "markdown",
   "metadata": {},
   "source": [
    "In ASP.NET Web API, the simplest way to pass-in a header on Swagger UI is to implement the Apply(...) method on the IOperationFilter interface.\n",
    "\n",
    "Add this to your project:"
   ]
  },
  {
   "cell_type": "code",
   "execution_count": null,
   "metadata": {},
   "outputs": [],
   "source": [
    "public class AddRequiredHeaderParameter : IOperationFilter\n",
    "{\n",
    "    public void Apply(Operation operation, SchemaRegistry schemaRegistry, ApiDescription apiDescription)\n",
    "    {\n",
    "        if (operation.parameters == null)\n",
    "            operation.parameters = new List<Parameter>();\n",
    "\n",
    "        operation.parameters.Add(new Parameter\n",
    "        {\n",
    "            name = \"MyHeaderField\",\n",
    "            @in = \"header\",\n",
    "            type = \"string\",\n",
    "            description = \"My header field\",\n",
    "            required = true\n",
    "        });\n",
    "    }\n",
    "}"
   ]
  },
  {
   "cell_type": "markdown",
   "metadata": {},
   "source": [
    "In *SwaggerConfig.cs*, register the filter from above using c.OperationFilter<T>():"
   ]
  },
  {
   "cell_type": "code",
   "execution_count": null,
   "metadata": {},
   "outputs": [],
   "source": [
    "public static void Register()\n",
    "{\n",
    "    var thisAssembly = typeof(SwaggerConfig).Assembly;\n",
    "\n",
    "    GlobalConfiguration.Configuration \n",
    "        .EnableSwagger(c =>\n",
    "        {\n",
    "            c.SingleApiVersion(\"v1\", \"YourProjectName\");\n",
    "            c.IgnoreObsoleteActions();\n",
    "            c.UseFullTypeNameInSchemaIds();\n",
    "            c.DescribeAllEnumsAsStrings();\n",
    "            c.IncludeXmlComments(GetXmlCommentsPath());\n",
    "            c.ResolveConflictingActions(apiDescriptions => apiDescriptions.First());\n",
    "\n",
    "\n",
    "            c.OperationFilter<AddRequiredHeaderParameter>(); // Add this here\n",
    "        })\n",
    "        .EnableSwaggerUi(c =>\n",
    "        {\n",
    "            c.DocExpansion(DocExpansion.List);\n",
    "        });\n",
    "}"
   ]
  },
  {
   "cell_type": "markdown",
   "metadata": {},
   "source": [
    " "
   ]
  },
  {
   "cell_type": "markdown",
   "metadata": {},
   "source": [
    "### 5. How should we use Swagger to produce static docs?"
   ]
  },
  {
   "cell_type": "markdown",
   "metadata": {},
   "source": [
    "**Generating static html api documentation :**\n",
    "To do so, just use the ***-l html*** flag when reading a spec file. This creates a single, simple HTML file with embedded css so you can ship it as an email attachment, or load it from your filesystem\n",
    "\n",
    "**Use swagger-codegen :**"
   ]
  },
  {
   "cell_type": "code",
   "execution_count": null,
   "metadata": {},
   "outputs": [],
   "source": [
    "swagger-codegen generate -i <path to your swagger file> -l html2 -o <path to output location>"
   ]
  },
  {
   "cell_type": "markdown",
   "metadata": {},
   "source": [
    "  \n",
    "If you decide to customize the HTML template:\n",
    "1. Clone the swagger-codegen project from github\n",
    "2. Copy modules/swagger-codegen/src/main/resources/htmlDocs2 folder to another place, for example: cp -R modules/swagger-codegen/src/main/resources/htmlDocs2 ~/templates\n",
    "3. Modify the .mustache templates in ~/templates to fit your requirements.\n",
    "4. Run: swagger-codegen generate -i < path to your swagger file> -l html2 -o < path to output location> -t < templates path> for   < templates path> should be ~/templates in the example above."
   ]
  },
  {
   "cell_type": "code",
   "execution_count": null,
   "metadata": {},
   "outputs": [],
   "source": []
  }
 ],
 "metadata": {
  "kernelspec": {
   "display_name": "Python 3",
   "language": "python",
   "name": "python3"
  },
  "language_info": {
   "codemirror_mode": {
    "name": "ipython",
    "version": 3
   },
   "file_extension": ".py",
   "mimetype": "text/x-python",
   "name": "python",
   "nbconvert_exporter": "python",
   "pygments_lexer": "ipython3",
   "version": "3.8.3"
  }
 },
 "nbformat": 4,
 "nbformat_minor": 4
}
