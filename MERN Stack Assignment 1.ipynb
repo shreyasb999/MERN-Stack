{
 "cells": [
  {
   "cell_type": "markdown",
   "metadata": {},
   "source": [
    "#                                 MERN STACK ASSIGNMENT 1\n",
    "\n",
    "### Name - Shreyas Bhavsar                                                                   \n",
    "### Email - bhavsarshreyas99@gmail.com"
   ]
  },
  {
   "cell_type": "markdown",
   "metadata": {},
   "source": [
    "### 1. What exactly do you mean when you say \"prop drilling,\" and how do you avoid it?"
   ]
  },
  {
   "cell_type": "markdown",
   "metadata": {},
   "source": [
    "**Prop Drilling :** When building a React application, there is often the need for a deeply nested component to use data provided by another component that is much higher in the hierarchy.\n",
    "\n",
    "Consider the following example components:\n",
    "\n",
    "* < EditUsersPage />, which includes selectedUserAddress in its component state and renders a < User /> component\n",
    "* < User />, which renders a < UserDetails /> component\n",
    "* < UserDetails />, which renders a < UserAddress /> component\n",
    "* A < UserAddress /> component that requires the selectedUserAddress property stored in the < EditUsersPage /> state\n",
    "\n",
    "The simplest approach is to simply pass a **selectedUserAddress** prop from each component to the next in the hierarchy from the source component to the deeply nested component. This is called prop drilling.\n",
    "\n",
    "The primary disadvantage of prop drilling is that components that should not otherwise be aware of the data. In this case < User /> and < UserDetails /> become unnecessarily complicated and are harder to maintain.\n",
    "\n",
    "**How to avoid it :**\n",
    "To avoid prop drilling, a common approach is to use React context. This allows a **Provider** component that supplies data to be defined, and allows nested components to consume context data via either a **Consumer** component or a **useContext** hook.\n",
    "\n",
    "While context can be used directly for sharing global state, it is also possible to use context indirectly via a state management module, such as Redux."
   ]
  },
  {
   "cell_type": "markdown",
   "metadata": {},
   "source": [
    " "
   ]
  },
  {
   "cell_type": "markdown",
   "metadata": {},
   "source": [
    "### 2. In React JS, how do you add validation to props?"
   ]
  },
  {
   "cell_type": "markdown",
   "metadata": {},
   "source": [
    "Props are used to passing the read-only attributes to React components. For the proper functioning of components and to avoid future bugs and glitches it is necessary that props are passed correctly. Hence, it is required to use props validation for improving react component’s performance.\n",
    "\n",
    "React JS has an inbuilt feature for validating props data type to make sure that values passed through props are valid. React components have a property called propTypes which is used to setup data type validation. \n",
    "\n",
    "When the application is running in development mode, React will automatically check all props that we set on components to make sure they have correct type. If the type is incorrect, React will generate warning messages in the console. It’s disabled in production mode due to performance impact. The mandatory props are defined with **isRequired**.\n",
    "\n",
    "Some predefined prop types:\n",
    "\n",
    "* PropTypes.number\n",
    "* PropTypes.string\n",
    "* PropTypes.array\n",
    "* PropTypes.object\n",
    "* PropTypes.func\n",
    "* PropTypes.node\n",
    "* PropTypes.element\n",
    "* PropTypes.bool\n",
    "* PropTypes.symbol\n",
    "* PropTypes.any\n",
    "\n",
    "Syntax: The syntax to use propTypes is shown below : \n",
    "\n"
   ]
  },
  {
   "cell_type": "raw",
   "metadata": {},
   "source": [
    "class Component extends React.Component {\n",
    "  render() {}\n",
    "}\n",
    "\n",
    "Component.propTypes = {/* definition goes here*/};"
   ]
  },
  {
   "cell_type": "markdown",
   "metadata": {},
   "source": [
    "\n",
    "We can define propTypes for User component as below:"
   ]
  },
  {
   "cell_type": "raw",
   "metadata": {},
   "source": [
    "import React from \"react\";\n",
    "import PropTypes from \"prop-types\";\n",
    "\n",
    "class User extends React.Component {\n",
    "    static propTypes = {\n",
    "        name: PropTypes.string.isRequired,\n",
    "        age: PropTypes.number.isRequired,\n",
    "    };\n",
    "\n",
    "    render() {\n",
    "        return (\n",
    "            <>\n",
    "                <h1>{`Welcome, ${this.props.name}`}</h1>\n",
    "                <h2>{`Age, ${this.props.age}`}</h2>\n",
    "            </>\n",
    "        );\n",
    "    }\n",
    "}"
   ]
  },
  {
   "cell_type": "markdown",
   "metadata": {},
   "source": [
    "In React **v15.5** PropTypes were moved from React.PropTypes to prop-types library.\n",
    "\n",
    "The Equivalent Functional Component : "
   ]
  },
  {
   "cell_type": "raw",
   "metadata": {},
   "source": [
    "import React from \"react\";\n",
    "import PropTypes from \"prop-types\";\n",
    "\n",
    "function User({ name, age }) {\n",
    "    return (\n",
    "        <>\n",
    "            <h1>{`Welcome, ${name}`}</h1>\n",
    "            <h2>{`Age, ${age}`}</h2>\n",
    "        </>\n",
    "    );\n",
    "}\n",
    "\n",
    "User.propTypes = {\n",
    "    name: PropTypes.string.isRequired,\n",
    "    age: PropTypes.number.isRequired,\n",
    "};"
   ]
  },
  {
   "cell_type": "markdown",
   "metadata": {},
   "source": [
    " "
   ]
  },
  {
   "cell_type": "markdown",
   "metadata": {},
   "source": [
    "### 3. Is it possible to use classes in NodeJS?"
   ]
  },
  {
   "cell_type": "markdown",
   "metadata": {},
   "source": [
    "There are mainly two ways of writing a class in Node.js:\n",
    "\n",
    "1. Using JavaScript prototype\n",
    "2. Using ES6 (ECMAScript 6)\n",
    "\n",
    "\n",
    "**1. Class in Node.js using JavaScript prototype :**\n",
    "\n",
    "It is possible to write a class in Node.js using JavaScript. JavaScript has OOP support when we use **prototype**.\n",
    "\n",
    "Syntax:"
   ]
  },
  {
   "cell_type": "raw",
   "metadata": {},
   "source": [
    "className.prototype.methodName = function() {\n",
    "}"
   ]
  },
  {
   "cell_type": "markdown",
   "metadata": {},
   "source": [
    "**Example :**"
   ]
  },
  {
   "cell_type": "raw",
   "metadata": {},
   "source": [
    "// Method which can be extended as a class\n",
    "function Student() {\n",
    " this.id = \"ID_007\";\n",
    "}\n",
    "\n",
    "// Setting the method using prototype\n",
    "Student.prototype.setName = function(name) {\n",
    " this.name = name;\n",
    "};\n",
    "\n",
    "// Setting the method using prototype\n",
    "Student.prototype.sayHi = function() {\n",
    " console.log(\"Hi, \" + this.name + \", your ID is \" + this.id);\n",
    "};\n",
    "\n",
    "// Creating an object using the class Student\n",
    "var newStudent = new Student();\n",
    "\n",
    "\n",
    "// Calling the method to set the value\n",
    "newStudent.setName(\"Shreyas\");\n",
    "\n",
    "newStudent.sayHi();"
   ]
  },
  {
   "cell_type": "markdown",
   "metadata": {},
   "source": [
    "**Output :**"
   ]
  },
  {
   "cell_type": "raw",
   "metadata": {},
   "source": [
    "Hi, Shreyas, your ID is ID_007"
   ]
  },
  {
   "cell_type": "markdown",
   "metadata": {},
   "source": [
    "In this case, we define a function, your \"Class,\" and then define methods using prototype.\n",
    "\n",
    "\n",
    "\n",
    "**2. Class in Node.js using ES6 :**\n",
    "\n",
    "The next method is using ES6. With the new Javascript standard ES6, we got a nice and clear syntax for creating classes. JavaScript classes are merely \"syntactic sugar\" over JavaScript's existing prototype-based inheritance to simplify the code for developers.\n",
    "\n",
    "**Code:**"
   ]
  },
  {
   "cell_type": "raw",
   "metadata": {},
   "source": [
    "// Student class declaration\n",
    "class Student {\n",
    " constructor() {\n",
    "   this.id = \"ID_007\";\n",
    " }\n",
    "\n",
    " set name(name) {\n",
    "   this._name = name;\n",
    " }\n",
    "\n",
    " get name() {\n",
    "   return this._name;\n",
    " }\n",
    "\n",
    " sayHi() {\n",
    "   console.log(\"Hi, \" + this.name + \", your ID is \" + this.id);\n",
    " }\n",
    "}\n",
    "\n",
    "var newStudent = new Student();\n",
    "newStudent.name = \"Shreyas\";\n",
    "\n",
    "newStudent.sayHi();"
   ]
  },
  {
   "cell_type": "markdown",
   "metadata": {},
   "source": [
    "**Output :**"
   ]
  },
  {
   "cell_type": "raw",
   "metadata": {},
   "source": [
    "Hi, Shreyas, your ID is ID_007"
   ]
  },
  {
   "cell_type": "markdown",
   "metadata": {},
   "source": [
    "As you can notice, the syntax in ES6 is easier to read and understand. Also, ES6 allows you to **extend** classes.\n"
   ]
  },
  {
   "cell_type": "markdown",
   "metadata": {},
   "source": [
    " "
   ]
  },
  {
   "cell_type": "markdown",
   "metadata": {},
   "source": [
    "### 4. What is the purpose of super(props)?"
   ]
  },
  {
   "cell_type": "markdown",
   "metadata": {},
   "source": [
    "**super()** is basically calling the parent function. If you create a es6 class or a function, and extend another class from it, then the child class can access the methods of parent class using super.\n",
    "\n",
    "For example, here we have declared a class named Car which has hard coded property noOfWheels as 4 and it takes name from the parameter."
   ]
  },
  {
   "cell_type": "raw",
   "metadata": {},
   "source": [
    "class Car {\n",
    "  constructor(name){\n",
    "    this.noOfWheels = 4\n",
    "    this.manufacturer = name;\n",
    "    this.autoAssist = false;\n",
    "  }\n",
    "  setAutoAssist(bool){\n",
    "    this.autoAssist = bool;\n",
    "  }\n",
    "}"
   ]
  },
  {
   "cell_type": "markdown",
   "metadata": {},
   "source": [
    "If a child class extends this Car class, then it inherits these properties."
   ]
  },
  {
   "cell_type": "raw",
   "metadata": {},
   "source": [
    "class Tesla extends Car {\n",
    "  constructor(owner){\n",
    "   super(\"Tesla\");\n",
    "   this.owner = owner\n",
    "  }\n",
    "}\n",
    "\n",
    "\n",
    "const myTeslaCar = new Tesla(\"Sam\");\n",
    "console.log(myTeslaCar);\n",
    "\n",
    ">> { noOfWheels: 4, manufacturer: \"Tesla\", owner: \"Sam\", autoAssist: \"false\"}"
   ]
  },
  {
   "cell_type": "markdown",
   "metadata": {},
   "source": [
    "The same concept that we saw above applies, when you are creating a react component. You are extending Component of react.\n",
    "\n",
    "This is code of Component function in ReactBaseClasses.js in react github repository."
   ]
  },
  {
   "cell_type": "raw",
   "metadata": {},
   "source": [
    "/* Base class helpers for the updating state of a component. */\n",
    "function Component(props, context, updater) {\n",
    "  this.props = props;\n",
    "  this.context = context;\n",
    "  // If a component has string refs, we will assign a different object later.\n",
    "  this.refs = emptyObject;\n",
    "  // We initialize the default updater but the real one gets injected by the\n",
    "  // renderer.\n",
    "  this.updater = updater || ReactNoopUpdateQueue;\n",
    "}"
   ]
  },
  {
   "cell_type": "markdown",
   "metadata": {},
   "source": [
    "When you extend Component, you are inheriting **this.props**, **this.context** and many other prototype functions like **setState**.\n",
    "\n",
    "So if you do not call super(props) in constructor, then this.props will be undefined inside the constructor function. The constructor for a React component is called before it is mounted. When implementing the constructor for a React.Component subclass, you should call super(props) before any other statement. Otherwise, this.props will be undefined in the constructor, which can lead to bugs.\n",
    "\n",
    "So **super(props)** is required to be called in contructor in react if you are going to access props in constructor function."
   ]
  },
  {
   "cell_type": "markdown",
   "metadata": {},
   "source": [
    " "
   ]
  },
  {
   "cell_type": "markdown",
   "metadata": {},
   "source": [
    "### 5. Why are the Express app and server separated?"
   ]
  },
  {
   "cell_type": "markdown",
   "metadata": {},
   "source": [
    "The latest Express generator comes with a great practice that is worth to keep - the API declaration is separated from the network related configuration (port, protocol, etc). \n",
    "* It allows testing the API in-process without having to perform the network calls\n",
    "* Faster testing execution\n",
    "* Getting wider coverage metrics of the code\n",
    "* Allows deploying the same API under flexible and different network conditions\n",
    "* Better separation of concerns and cleaner code\n",
    "\n",
    "API declaration should reside in **app.js:**"
   ]
  },
  {
   "cell_type": "raw",
   "metadata": {},
   "source": [
    "var app = express(); \n",
    "app.use(bodyParser.json()); \n",
    "app.use(\"/api/events\", events.API); \n",
    "app.use(\"/api/forms\", forms);"
   ]
  },
  {
   "cell_type": "markdown",
   "metadata": {},
   "source": [
    "Server network declaration should reside in **/bin/www:**"
   ]
  },
  {
   "cell_type": "raw",
   "metadata": {},
   "source": [
    "var app = require('../app');\n",
    "var http = require('http');\n",
    "//Get port from environment and store in Expressvar \n",
    "port = normalizePort(process.env.PORT || '8000');\n",
    "app.set('port', port);\n",
    "//Create HTTP server.\n",
    "var server = http.createServer(app);"
   ]
  },
  {
   "cell_type": "code",
   "execution_count": null,
   "metadata": {},
   "outputs": [],
   "source": []
  }
 ],
 "metadata": {
  "kernelspec": {
   "display_name": "Python 3",
   "language": "python",
   "name": "python3"
  },
  "language_info": {
   "codemirror_mode": {
    "name": "ipython",
    "version": 3
   },
   "file_extension": ".py",
   "mimetype": "text/x-python",
   "name": "python",
   "nbconvert_exporter": "python",
   "pygments_lexer": "ipython3",
   "version": "3.8.3"
  }
 },
 "nbformat": 4,
 "nbformat_minor": 4
}
